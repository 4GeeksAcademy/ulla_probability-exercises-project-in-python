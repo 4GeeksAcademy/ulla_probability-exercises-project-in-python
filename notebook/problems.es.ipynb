{
 "cells": [
  {
   "cell_type": "markdown",
   "id": "a41f3622",
   "metadata": {},
   "source": [
    "# Ejercicios de probabilidad"
   ]
  },
  {
   "cell_type": "markdown",
   "id": "a6bdbd89",
   "metadata": {},
   "source": [
    "## Ejercicio 1 \n",
    "\n",
    "Dos dados se lanzan una vez y se observa el total obtenido. Usa una simulación para encontrar la probabilidad estimada de que la puntuación sea mayor a 7 o un número par. Una simulación es una repetición del mismo experimento multiples veces para observar su comportamiento:\n",
    "\n",
    "- Ejecuta el experimento 1000 veces (lanza 2 dados 1000 veces, y suma el número de ambos dados).\n",
    "- Lleva ua cuenta de los números y las veces que la suma fue mayor a 7 o un número par.\n",
    "- Divide el número del paso 2 entre el número de iteraciones(1000)."
   ]
  },
  {
   "cell_type": "code",
   "execution_count": 1,
   "id": "b3173cd1",
   "metadata": {},
   "outputs": [
    {
     "name": "stdout",
     "output_type": "stream",
     "text": [
      "La condición se cumplió 666 veces en 1000 simulaciones.\n",
      "La probabilidad estimada es: 0.67\n",
      "El porcentaje de : 66.6 %\n"
     ]
    }
   ],
   "source": [
    "\n",
    "\n",
    "import random\n",
    "\n",
    "num_simulaciones = 1000\n",
    "\n",
    "cont_cumple_condicion = 0\n",
    "\n",
    "for i in range(num_simulaciones):\n",
    "    dado1 = random.randint(1, 6)  \n",
    "    dado2 = random.randint(1, 6)  \n",
    "    \n",
    "    suma = dado1 + dado2  \n",
    "    \n",
    "    if suma > 7 or suma % 2 == 0:\n",
    "        cont_cumple_condicion += 1  \n",
    "\n",
    "\n",
    "probabilidad_estimada = cont_cumple_condicion / num_simulaciones\n",
    "\n",
    "print(\"La condición se cumplió\", cont_cumple_condicion, \"veces en\", num_simulaciones, \"simulaciones.\")\n",
    "print(\"La probabilidad estimada es:\",round(probabilidad_estimada,2))\n",
    "print(\"El porcentaje de :\",round(probabilidad_estimada*100,2),\"%\")\n"
   ]
  },
  {
   "cell_type": "markdown",
   "id": "55732bca",
   "metadata": {},
   "source": [
    "## Ejercicio 2\n",
    "\n",
    "Una caja contiene 10 bolas blancas, 20 bolas rojas y 30 bolas verdes. Si tomamos 5 bolas de la caja reemplazándolas (tomando una bola, anotando el color y luego regresandola a la caja). Queremos saber la probabilidad de:\n",
    "\n",
    "1. Tomar 3 blancas y 2 rojas.\n",
    "2. Toas todas del mismo color.\n",
    "\n",
    "Ejecuta el experimento 1000 veces y calcula las probabilidades que mencionadas."
   ]
  },
  {
   "cell_type": "code",
   "execution_count": 2,
   "id": "23244d20",
   "metadata": {},
   "outputs": [
    {
     "name": "stdout",
     "output_type": "stream",
     "text": [
      "{0: 'White', 1: 'White', 2: 'White', 3: 'White', 4: 'White', 5: 'White', 6: 'White', 7: 'White', 8: 'White', 9: 'White', 10: 'Red', 11: 'Red', 12: 'Red', 13: 'Red', 14: 'Red', 15: 'Red', 16: 'Red', 17: 'Red', 18: 'Red', 19: 'Red', 20: 'Red', 21: 'Red', 22: 'Red', 23: 'Red', 24: 'Red', 25: 'Red', 26: 'Red', 27: 'Red', 28: 'Red', 29: 'Red', 30: 'Green', 31: 'Green', 32: 'Green', 33: 'Green', 34: 'Green', 35: 'Green', 36: 'Green', 37: 'Green', 38: 'Green', 39: 'Green', 40: 'Green', 41: 'Green', 42: 'Green', 43: 'Green', 44: 'Green', 45: 'Green', 46: 'Green', 47: 'Green', 48: 'Green', 49: 'Green', 50: 'Green', 51: 'Green', 52: 'Green', 53: 'Green', 54: 'Green', 55: 'Green', 56: 'Green', 57: 'Green', 58: 'Green', 59: 'Green'}\n",
      "La probabilidad de obtener 3 blancas y 2 rojas es de: 0.002 o lo que es lo mismo hay un: 0.2 % de probabilidades de obtener 3 blancas y dos rojas\n",
      "La probabilidad de obtener todas del mismo color es de: 0.035 o lo que es lo mismo hay un: 3.5000000000000004 % de probabilidades de obtener todas del mismo color\n"
     ]
    }
   ],
   "source": [
    "ball_box = {}\n",
    "\n",
    "# Crea la cajas con las bolas\n",
    "for i in range(60):\n",
    "    if i < 10:\n",
    "        ball_box[i] = \"White\"\n",
    "    elif (i > 9) and (i < 30):\n",
    "        ball_box[i] = \"Red\"\n",
    "    else:\n",
    "        ball_box[i] = \"Green\"\n",
    "\n",
    "print(ball_box)\n",
    "            \n",
    "# TODO\n",
    "\n",
    "import random\n",
    "\n",
    "balls_list = list(ball_box.values())\n",
    "\n",
    "\n",
    "prob_3_blan_2_rojas = 0  \n",
    "prob_mismo_color = 0  \n",
    "total_simulations = 1000\n",
    "\n",
    "\n",
    "for i in range(total_simulations):\n",
    "    sample = random.choices(balls_list, k=5)  \n",
    "    \n",
    "   \n",
    "    white_count = sample.count(\"White\")\n",
    "    red_count = sample.count(\"Red\")\n",
    "    green_count = sample.count(\"Green\")\n",
    "\n",
    "    #  1: 3 blancas y 2 rojas\n",
    "    if white_count == 3 and red_count == 2:\n",
    "        prob_3_blan_2_rojas += 1\n",
    "    \n",
    "    #  2: Todas del mismo color\n",
    "    if white_count == 5 or red_count == 5 or green_count == 5:\n",
    "        prob_mismo_color += 1\n",
    "\n",
    "# Calcular probabilidades\n",
    "prob_event1 = prob_3_blan_2_rojas / total_simulations\n",
    "prob_event2 = prob_mismo_color / total_simulations\n",
    "\n",
    "# Mostrar resultados\n",
    "\n",
    "\n",
    "print(\"La probabilidad de obtener 3 blancas y 2 rojas es de:\", prob_event1, \"o lo que es lo mismo hay un:\",prob_event1*100, \"% de probabilidades de obtener 3 blancas y dos rojas\")\n",
    "print(\"La probabilidad de obtener todas del mismo color es de:\", prob_event2,\"o lo que es lo mismo hay un:\",prob_event2*100, \"% de probabilidades de obtener todas del mismo color\")\n",
    "\n",
    "\n",
    "\n",
    "\n",
    "\n",
    "\n",
    "\n",
    "\n",
    "\n",
    "\n"
   ]
  },
  {
   "cell_type": "code",
   "execution_count": null,
   "id": "2a1aa5d8",
   "metadata": {},
   "outputs": [],
   "source": []
  }
 ],
 "metadata": {
  "kernelspec": {
   "display_name": "Python 3",
   "language": "python",
   "name": "python3"
  },
  "language_info": {
   "codemirror_mode": {
    "name": "ipython",
    "version": 3
   },
   "file_extension": ".py",
   "mimetype": "text/x-python",
   "name": "python",
   "nbconvert_exporter": "python",
   "pygments_lexer": "ipython3",
   "version": "3.11.4"
  }
 },
 "nbformat": 4,
 "nbformat_minor": 5
}
